{
 "cells": [
  {
   "cell_type": "code",
   "execution_count": 226,
   "metadata": {},
   "outputs": [],
   "source": [
    "import requests\n",
    "import json\n",
    "import pandas as pd\n",
    "from sqlalchemy import create_engine\n",
    "\n",
    "offset_ = 0\n",
    "limit_ = 5000\n",
    "url = f'https://xn--80az8a.xn--d1aqf.xn--p1ai/%D1%81%D0%B5%D1%80%D0%B2%D0%B8%D1%81%D1%8B/api/kn/object?offset={offset_}&limit={limit_}&sortField=devId.devShortCleanNm&sortType=asc&objStatus=0'\n",
    "res = requests.get(url)\n",
    "objects_data=res.json()\n",
    "objects_list = objects_data.get('data').get('list')\n",
    "objids = [x.get('objId') for x in objects_list] \n",
    "\n",
    "arr_obj = []\n",
    "for i in range(0, len(objids)):\n",
    "   url = f'https://xn--80az8a.xn--d1aqf.xn--p1ai/%D1%81%D0%B5%D1%80%D0%B2%D0%B8%D1%81%D1%8B/api/object/{objids[i]}'\n",
    "   res = requests.get(url).json().get('data')\n",
    "   dev = res.get('developer')\n",
    "   del res['developer']\n",
    "   \n",
    "   key = 'photoRenderDTO'\n",
    "   if key in res:\n",
    "      del res[key]\n",
    "   key = 'quartography'\n",
    "   if key in res:\n",
    "      del res[key]\n",
    "   key = 'orgForm'\n",
    "   if key in dev:\n",
    "      del dev[key]\n",
    "   \n",
    "   res.update(dev)\n",
    "   arr_obj.append(res)\n",
    "\n",
    "with open(\"data_file.json\", \"w\") as write_file:\n",
    "   json.dump(arr_obj, write_file, sort_keys=False, indent=4, ensure_ascii=True, separators=(',', ': '))\n",
    "\n",
    "base = pd.read_json('data_file.json', encoding='ISO-8859–1')\n",
    "df = pd.DataFrame(base).fillna(0)\n",
    "\n",
    "#экспорт в excel\n",
    "excel_file = pd.ExcelWriter('save_pandas.xlsx')\n",
    "df.to_excel(excel_file)\n",
    "excel_file.save()\n",
    "\n",
    "#экспорт в pickle\n",
    "df.to_pickle('save_pandas.pkl')\n",
    "\n",
    "#экспорт в БД\n",
    "#engine = create_engine('sqlite:///save_pandas.db', echo=True)\n",
    "#sqlite_connection = engine.connect()\n",
    "#sqlite_table = \"ЖК\"\n",
    "#df.to_sql(sqlite_table, sqlite_connection, if_exists='append')"
   ]
  }
 ],
 "metadata": {
  "kernelspec": {
   "display_name": "Python 3.9.7 ('base')",
   "language": "python",
   "name": "python3"
  },
  "language_info": {
   "codemirror_mode": {
    "name": "ipython",
    "version": 3
   },
   "file_extension": ".py",
   "mimetype": "text/x-python",
   "name": "python",
   "nbconvert_exporter": "python",
   "pygments_lexer": "ipython3",
   "version": "3.9.7"
  },
  "orig_nbformat": 4,
  "vscode": {
   "interpreter": {
    "hash": "a077222d77dfe082b8f1dd562ad70e458ac2ab76993a0b248ab0476e32e9e8dd"
   }
  }
 },
 "nbformat": 4,
 "nbformat_minor": 2
}
