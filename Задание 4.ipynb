{
 "cells": [
  {
   "cell_type": "code",
   "execution_count": 157,
   "metadata": {},
   "outputs": [],
   "source": [
    "import pandas as pd\n",
    "import numpy as np\n",
    "import requests # for web-download\n",
    "import io # for web-download\n",
    "import re # for data processing"
   ]
  },
  {
   "cell_type": "markdown",
   "metadata": {},
   "source": [
    "<h3> Задание №1. Химический анализ родника в Нескучном саду</h3>"
   ]
  },
  {
   "cell_type": "code",
   "execution_count": 158,
   "metadata": {},
   "outputs": [],
   "source": [
    "df=pd.read_csv(\"Химический анализ родника в Нескучном саду.csv\", sep=',')\n"
   ]
  },
  {
   "cell_type": "code",
   "execution_count": 159,
   "metadata": {},
   "outputs": [],
   "source": [
    "def is_digit(str):\n",
    "    \"\"\"функция, проверяющаяя является ли значение числом\"\"\"\n",
    "    if str.isdigit():\n",
    "        return True\n",
    "    else:\n",
    "        try:\n",
    "            float(str)\n",
    "            return True\n",
    "        except ValueError:\n",
    "            return False"
   ]
  },
  {
   "cell_type": "code",
   "execution_count": 163,
   "metadata": {},
   "outputs": [
    {
     "data": {
      "text/html": [
       "<div>\n",
       "<style scoped>\n",
       "    .dataframe tbody tr th:only-of-type {\n",
       "        vertical-align: middle;\n",
       "    }\n",
       "\n",
       "    .dataframe tbody tr th {\n",
       "        vertical-align: top;\n",
       "    }\n",
       "\n",
       "    .dataframe thead th {\n",
       "        text-align: right;\n",
       "    }\n",
       "</style>\n",
       "<table border=\"1\" class=\"dataframe\">\n",
       "  <thead>\n",
       "    <tr style=\"text-align: right;\">\n",
       "      <th></th>\n",
       "      <th>Единица измерений</th>\n",
       "      <th>Результат анализа</th>\n",
       "      <th>Норматив</th>\n",
       "      <th>Вывод</th>\n",
       "    </tr>\n",
       "    <tr>\n",
       "      <th>Показатель</th>\n",
       "      <th></th>\n",
       "      <th></th>\n",
       "      <th></th>\n",
       "      <th></th>\n",
       "    </tr>\n",
       "  </thead>\n",
       "  <tbody>\n",
       "    <tr>\n",
       "      <th>pH</th>\n",
       "      <td>единицы pH</td>\n",
       "      <td>8.4</td>\n",
       "      <td>в пределах 6-9</td>\n",
       "      <td>норма</td>\n",
       "    </tr>\n",
       "    <tr>\n",
       "      <th>Запах</th>\n",
       "      <td>баллы</td>\n",
       "      <td>1</td>\n",
       "      <td>не более 2-3</td>\n",
       "      <td>норма</td>\n",
       "    </tr>\n",
       "    <tr>\n",
       "      <th>Цветность</th>\n",
       "      <td>градусы</td>\n",
       "      <td>б/цвета</td>\n",
       "      <td>не более 30</td>\n",
       "      <td>ошибка в данных</td>\n",
       "    </tr>\n",
       "    <tr>\n",
       "      <th>Жёсткость</th>\n",
       "      <td>мг-эквл/дм3</td>\n",
       "      <td>9.199999999999999</td>\n",
       "      <td>в пределах 7-10</td>\n",
       "      <td>норма</td>\n",
       "    </tr>\n",
       "    <tr>\n",
       "      <th>Аммиак и аммоний-ион (по азоту)</th>\n",
       "      <td>мг/дм3</td>\n",
       "      <td>0.42</td>\n",
       "      <td>не более 1,5</td>\n",
       "      <td>норма</td>\n",
       "    </tr>\n",
       "    <tr>\n",
       "      <th>Нитриты (по NO2)</th>\n",
       "      <td>мг/дм3</td>\n",
       "      <td>0.017</td>\n",
       "      <td>не более 3,3</td>\n",
       "      <td>норма</td>\n",
       "    </tr>\n",
       "    <tr>\n",
       "      <th>Нитраты (по NO3)</th>\n",
       "      <td>мг/дм3</td>\n",
       "      <td>24</td>\n",
       "      <td>не более 45</td>\n",
       "      <td>норма</td>\n",
       "    </tr>\n",
       "    <tr>\n",
       "      <th>Фосфаты (P)</th>\n",
       "      <td>мг/дм3</td>\n",
       "      <td>0.36</td>\n",
       "      <td>не более 3,5</td>\n",
       "      <td>норма</td>\n",
       "    </tr>\n",
       "    <tr>\n",
       "      <th>Хлориды (Cl)</th>\n",
       "      <td>мг/дм3</td>\n",
       "      <td>200</td>\n",
       "      <td>не более 350</td>\n",
       "      <td>норма</td>\n",
       "    </tr>\n",
       "    <tr>\n",
       "      <th>Сульфаты (SO4)</th>\n",
       "      <td>мг/дм3</td>\n",
       "      <td>189.5</td>\n",
       "      <td>не более 500</td>\n",
       "      <td>норма</td>\n",
       "    </tr>\n",
       "    <tr>\n",
       "      <th>Железо (включая хлорное железо) по Fe</th>\n",
       "      <td>мг/дм3</td>\n",
       "      <td>0.019</td>\n",
       "      <td>не более 0,3</td>\n",
       "      <td>норма</td>\n",
       "    </tr>\n",
       "    <tr>\n",
       "      <th>Нефть</th>\n",
       "      <td>мг/дм3</td>\n",
       "      <td>0.55</td>\n",
       "      <td>не более 0,3</td>\n",
       "      <td>отклонение</td>\n",
       "    </tr>\n",
       "    <tr>\n",
       "      <th>Общая минерализация (сухой остаток)</th>\n",
       "      <td>мг/дм3</td>\n",
       "      <td>590</td>\n",
       "      <td>не более 1000</td>\n",
       "      <td>норма</td>\n",
       "    </tr>\n",
       "    <tr>\n",
       "      <th>Окисляемость перманганатная</th>\n",
       "      <td>мг/дм3</td>\n",
       "      <td>2</td>\n",
       "      <td>не более 0,5</td>\n",
       "      <td>отклонение</td>\n",
       "    </tr>\n",
       "  </tbody>\n",
       "</table>\n",
       "</div>"
      ],
      "text/plain": [
       "                                      Единица измерений  Результат анализа  \\\n",
       "Показатель                                                                   \n",
       "pH                                           единицы pH                8.4   \n",
       "Запах                                             баллы                  1   \n",
       "Цветность                                       градусы            б/цвета   \n",
       "Жёсткость                                   мг-эквл/дм3  9.199999999999999   \n",
       "Аммиак и аммоний-ион (по азоту)                  мг/дм3               0.42   \n",
       "Нитриты (по NO2)                                 мг/дм3              0.017   \n",
       "Нитраты (по NO3)                                 мг/дм3                 24   \n",
       "Фосфаты (P)                                      мг/дм3               0.36   \n",
       "Хлориды (Cl)                                     мг/дм3                200   \n",
       "Сульфаты (SO4)                                   мг/дм3              189.5   \n",
       "Железо (включая хлорное железо) по Fe            мг/дм3              0.019   \n",
       "Нефть                                            мг/дм3               0.55   \n",
       "Общая минерализация (сухой остаток)              мг/дм3                590   \n",
       "Окисляемость перманганатная                      мг/дм3                  2   \n",
       "\n",
       "                                              Норматив            Вывод  \n",
       "Показатель                                                               \n",
       "pH                                      в пределах 6-9            норма  \n",
       "Запах                                     не более 2-3            норма  \n",
       "Цветность                                  не более 30  ошибка в данных  \n",
       "Жёсткость                              в пределах 7-10            норма  \n",
       "Аммиак и аммоний-ион (по азоту)           не более 1,5            норма  \n",
       "Нитриты (по NO2)                          не более 3,3            норма  \n",
       "Нитраты (по NO3)                           не более 45            норма  \n",
       "Фосфаты (P)                               не более 3,5            норма  \n",
       "Хлориды (Cl)                              не более 350            норма  \n",
       "Сульфаты (SO4)                            не более 500            норма  \n",
       "Железо (включая хлорное железо) по Fe     не более 0,3            норма  \n",
       "Нефть                                     не более 0,3       отклонение  \n",
       "Общая минерализация (сухой остаток)      не более 1000            норма  \n",
       "Окисляемость перманганатная               не более 0,5       отклонение  "
      ]
     },
     "execution_count": 163,
     "metadata": {},
     "output_type": "execute_result"
    }
   ],
   "source": [
    "new_column_value=[]\n",
    "\n",
    "for i in range(0,df.shape[0]):\n",
    "    if is_digit(df.iat[i,2])==True:\n",
    "        match = re.search(r'\\d+-\\d+',df.iat[i,3])\n",
    "        if match:\n",
    "            if re.search(r'\\D+',df.iat[i,3])[0]=='в пределах ':\n",
    "                if (float(df.iat[i,2])>=float(match[0].split('-')[0])) & (float(df.iat[i,2])<=float(match[0].split('-')[1])):\n",
    "                    new_column_value.append('норма')\n",
    "                else:\n",
    "                    new_column_value.append('отклонение')\n",
    "            else:\n",
    "                if float(df.iat[i,2])<=float(match[0].split('-')[1]):\n",
    "                    new_column_value.append('норма')\n",
    "                else:\n",
    "                    new_column_value.append('отклонение')\n",
    "        else:\n",
    "            match = re.search(r'\\d+,*\\d*',df.iat[i,3])\n",
    "            if match:\n",
    "                if float(df.iat[i,2])<=float(re.sub(r',',r'.',match[0])):\n",
    "                    new_column_value.append('норма')\n",
    "                else:\n",
    "                    new_column_value.append('отклонение')\n",
    "    else:\n",
    "        new_column_value.append('ошибка в данных')\n",
    "\n",
    "df['Вывод']= new_column_value\n",
    "df.set_index(\"Показатель\", inplace = True)\n",
    "df"
   ]
  },
  {
   "cell_type": "markdown",
   "metadata": {},
   "source": [
    "<h3>Задание №2</h3>"
   ]
  },
  {
   "cell_type": "markdown",
   "metadata": {},
   "source": [
    "В ящике 5 апельсинов и 4 яблока. Наудачу выбираются 3 фрукта. Какова вероятность, что все три фрукта – апельсины?\n",
    "\n",
    "В интернете полученный аналитически ответ 0.119. Подтверждается ли он эксперементально"
   ]
  },
  {
   "cell_type": "code",
   "execution_count": 4,
   "metadata": {},
   "outputs": [],
   "source": [
    "import pandas as pd\n",
    "import numpy as np\n",
    "import matplotlib.pyplot as plt\n",
    "import random\n",
    "import scipy.stats as sts\n",
    "%matplotlib inline\n",
    "\n",
    "import warnings\n",
    "warnings.filterwarnings('ignore')"
   ]
  },
  {
   "cell_type": "code",
   "execution_count": 14,
   "metadata": {},
   "outputs": [
    {
     "data": {
      "text/plain": [
       "0.118945"
      ]
     },
     "execution_count": 14,
     "metadata": {},
     "output_type": "execute_result"
    }
   ],
   "source": [
    "n=1000000\n",
    "a=[]\n",
    "b=[]\n",
    "c=[]\n",
    "\n",
    "for i in range(n):\n",
    "    basket = [\"orange\"]*5 + ['apple']*4\n",
    "    fr_1 = random.choice(basket)\n",
    "    a.append(fr_1)\n",
    "    if fr_1 == 'orange':\n",
    "        basket = [\"orange\"]*4 + ['apple']*4\n",
    "        fr_2 = random.choice(basket)\n",
    "        b.append(fr_2)\n",
    "        if fr_2 == 'orange':\n",
    "            basket = [\"orange\"]*3 + ['apple']*4\n",
    "            fr_3 = random.choice(basket)\n",
    "            c.append(fr_3)\n",
    "        else:\n",
    "            basket = [\"orange\"]*4 + ['apple']*3\n",
    "            fr_3 = random.choice(basket)\n",
    "            c.append(fr_3)\n",
    "    else:\n",
    "        basket = [\"orange\"]*5 + ['apple']*3\n",
    "        fr_2 = random.choice(basket)\n",
    "        b.append(fr_2)\n",
    "        if fr_2 == 'orange':\n",
    "            basket = [\"orange\"]*4 + ['apple']*3\n",
    "            fr_3 = random.choice(basket)\n",
    "            c.append(fr_3)\n",
    "        else:\n",
    "            basket = [\"orange\"]*5 + ['apple']*2\n",
    "            fr_3 = random.choice(basket)\n",
    "            c.append(fr_3)\n",
    "\n",
    "list_tuples = list(zip(a,b,c))\n",
    "df = pd.DataFrame(list_tuples,columns=['A','B','C'])\n",
    "\n",
    "P=len(df[(df['A']=='orange')&(df['B']=='orange')&(df['C']=='orange')])/df.shape[0]\n",
    "P"
   ]
  },
  {
   "cell_type": "markdown",
   "metadata": {},
   "source": [
    "<h3>Задание №3</h3>"
   ]
  },
  {
   "cell_type": "markdown",
   "metadata": {},
   "source": [
    "Мастер, имея 10 деталей, из которых 3 – нестандартных, проверяет детали одну за другой, пока ему не попадется стандартная. Какова вероятность, что он проверит ровно две детали?\n",
    "\n",
    "В интернете полученный аналитически ответ 7/30 или 0.23333. Подтверждается ли он эксперементально?"
   ]
  },
  {
   "cell_type": "code",
   "execution_count": 36,
   "metadata": {},
   "outputs": [
    {
     "data": {
      "text/plain": [
       "0.232929"
      ]
     },
     "execution_count": 36,
     "metadata": {},
     "output_type": "execute_result"
    }
   ],
   "source": [
    "details = [\"standart\"]*7 + ['unusual']*3\n",
    "n=1000000\n",
    "cnt_try =[]\n",
    "for i in range(n):\n",
    "    details = [\"standart\"]*7 + ['unusual']*3\n",
    "    for j in range(0,10):\n",
    "        detail = random.choice(details)\n",
    "        details.remove(detail)\n",
    "        if detail =='standart':\n",
    "            cnt_try.append(10-len(details))\n",
    "            break\n",
    "\n",
    "df=pd.DataFrame(cnt_try,columns=['CNT'])\n",
    "P=len(df[df['CNT']==2])/df.shape[0]\n",
    "P"
   ]
  }
 ],
 "metadata": {
  "kernelspec": {
   "display_name": "Python 3.9.7 ('base')",
   "language": "python",
   "name": "python3"
  },
  "language_info": {
   "codemirror_mode": {
    "name": "ipython",
    "version": 3
   },
   "file_extension": ".py",
   "mimetype": "text/x-python",
   "name": "python",
   "nbconvert_exporter": "python",
   "pygments_lexer": "ipython3",
   "version": "3.9.7"
  },
  "orig_nbformat": 4,
  "vscode": {
   "interpreter": {
    "hash": "a077222d77dfe082b8f1dd562ad70e458ac2ab76993a0b248ab0476e32e9e8dd"
   }
  }
 },
 "nbformat": 4,
 "nbformat_minor": 2
}
