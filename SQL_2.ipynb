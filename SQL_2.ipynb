{
 "cells": [
  {
   "cell_type": "code",
   "execution_count": null,
   "metadata": {},
   "outputs": [],
   "source": []
  },
  {
   "cell_type": "markdown",
   "metadata": {},
   "source": [
    "<h4>1. Выберите заказчиков из Германии, Франции и Мадрида, выведите их название, страну и адрес.</h4>"
   ]
  },
  {
   "cell_type": "markdown",
   "metadata": {},
   "source": [
    "SELECT CustomerName, Country, Address FROM [Customers]\n",
    "\n",
    "WHERE Country = \"Germany\" or Country = \"France\" or City = \"Madrid\""
   ]
  },
  {
   "cell_type": "markdown",
   "metadata": {},
   "source": [
    "<h4>2. Выберите топ 3 страны по количеству заказчиков, выведите их названия и количество записей.</h4>"
   ]
  },
  {
   "cell_type": "markdown",
   "metadata": {},
   "source": [
    "SELECT Country, count(CustomerName) as CustCount FROM [Customers]\n",
    "\n",
    "Group by Country\n",
    "\n",
    "Order by CustCount Desc limit 3"
   ]
  },
  {
   "cell_type": "markdown",
   "metadata": {},
   "source": [
    "<h4>3. Выберите перевозчика, который отправил 10-й по времени заказ, выведите его название, и дату отправления.\n",
    "</h4>"
   ]
  },
  {
   "cell_type": "markdown",
   "metadata": {},
   "source": [
    "SELECT OrderID, ShipperName, OrderDate FROM \n",
    "\n",
    "[Orders] JOIN [Shippers] ON orders.ShipperId = Shippers.ShipperID\n",
    "\n",
    "Order by OrderDate\n",
    "\n",
    "limit 1 offset 9"
   ]
  },
  {
   "cell_type": "markdown",
   "metadata": {},
   "source": [
    "<h4>4. Выберите самый дорогой заказ, выведите список товаров с их ценами.\n",
    "</h4>"
   ]
  },
  {
   "cell_type": "markdown",
   "metadata": {},
   "source": [
    "SELECT OrderID, ProductName, Price, Quantity, Price*Quantity as TotalSum FROM \n",
    "\n",
    "[OrderDetails] Join [Products] on OrderDetails.ProductID = Products.ProductID\n",
    "\n",
    "Where OrderID = (\n",
    "\n",
    "\tSelect OrderID From (SELECT OrderID, sum(Quantity*Price) as TotalProductPrice FROM \n",
    "\n",
    "\t[OrderDetails] Join [Products] on OrderDetails.ProductID = Products.ProductID\n",
    "\n",
    "\tGroup by OrderID \n",
    "\n",
    "\tOrder by TotalProductPrice Desc\n",
    "    \n",
    "    limit 1))"
   ]
  },
  {
   "cell_type": "markdown",
   "metadata": {},
   "source": [
    "<h3>5. Какой товар больше всего заказывали по количеству единиц товара, выведите его название и количество единиц в каждом из заказов.</h3>\n"
   ]
  },
  {
   "cell_type": "markdown",
   "metadata": {},
   "source": [
    "SELECT ORderID, OrderDetails.ProductID, ProductName, Quantity FROM \n",
    "\n",
    "[OrderDetails] JOIN Products ON OrderDetails.ProductID = Products.ProductID\n",
    "\n",
    "Where OrderDetails.ProductID = (\n",
    "\n",
    "\tSelect ProductID From (SELECT ProductID, sum(Quantity) as Total FROM [OrderDetails]\n",
    "\n",
    "\tGroup by ProductID\n",
    "\n",
    "\tOrder By Total Desc\n",
    "\n",
    "\tlimit 1)\n",
    "    \n",
    ")"
   ]
  },
  {
   "cell_type": "markdown",
   "metadata": {},
   "source": [
    "<h3>6. Выведите топ 5 поставщиков по количеству заказов, выведите их названия, страну, контактное лицо и телефон.</h3>"
   ]
  },
  {
   "cell_type": "markdown",
   "metadata": {},
   "source": [
    "SELECT SupplierName,Country,ContactName,Phone, count(OrderID) as OrdersCount FROM\n",
    "\n",
    "[OrderDetails] JOIN (Products Join Suppliers ON Products.SupplierID = Suppliers.SupplierID) ON OrderDetails.ProductID=Products.ProductID\n",
    "\n",
    "Group By SupplierName\n",
    "\n",
    "Order by OrdersCount Desc\n",
    "\n",
    "limit 5"
   ]
  },
  {
   "cell_type": "markdown",
   "metadata": {},
   "source": [
    "<h3>7. Какую категорию товаров заказывали больше всего по стоимости в Бразилии, выведите страну, название категории и сумму.\n",
    "</h3>"
   ]
  },
  {
   "cell_type": "markdown",
   "metadata": {},
   "source": [
    "Select Country, CategoryName, sum(Quantity*Price) as TotalCategoryPrice from\n",
    "\n",
    "OrderDetails Join Orders ON OrderDetails.OrderID = Orders.OrderID Join Customers On Orders.CustomerID = Customers.CustomerID Join Products ON OrderDetails.ProductID = Products.ProductID Join Categories ON Products.CategoryID = Categories.CategoryID\n",
    "Where Customers.Country = \"Brazil\"\n",
    "\n",
    "Group By Products.CategoryID\n",
    "\n",
    "Order By TotalCategoryPrice Desc\n",
    "\n",
    "limit 1"
   ]
  },
  {
   "cell_type": "markdown",
   "metadata": {},
   "source": [
    "<h3>8. Какая разница в стоимости между самым дорогим и самым дешевым заказом из США.\n",
    "</h3>"
   ]
  },
  {
   "cell_type": "markdown",
   "metadata": {},
   "source": [
    "Select max(TotalOrderPrice) - min(TotalOrderPrice) as Difference From(\n",
    "\n",
    "\tSelect OrderDetails.OrderID, sum(Quantity*Price) as TotalOrderPrice from\n",
    "\n",
    "\tOrderDetails Join Orders ON OrderDetails.OrderID = Orders.OrderID Join Customers On Orders.CustomerID = Customers.CustomerID Join Products \t\tON OrderDetails.ProductID = Products.ProductID Join Categories ON Products.CategoryID = Categories.CategoryID\n",
    "\n",
    "\tWhere Customers.Country = \"USA\"\n",
    "\n",
    "\tGroup By OrderDetails.OrderID\n",
    "\n",
    "\tOrder By TotalOrderPrice\n",
    "    \n",
    " )"
   ]
  }
 ],
 "metadata": {
  "language_info": {
   "name": "python"
  },
  "orig_nbformat": 4
 },
 "nbformat": 4,
 "nbformat_minor": 2
}
